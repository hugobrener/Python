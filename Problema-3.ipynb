{
 "cells": [
  {
   "cell_type": "code",
   "execution_count": 2,
   "id": "01ded798",
   "metadata": {},
   "outputs": [],
   "source": [
    "#problema 3\n",
    "#para ser numero estrobogramático\n",
    "\n",
    "#não pode conter algarismos 3, 4, e 7\n",
    "#para números de 2 ou mais algarismo, o primeiro e o ultimo algarismos precisam ser iguais, ou ser 6 e 9*\n",
    "#atenção especial para os caso de 6 e 9\n",
    "#9 e 6 precisam estar em posições simétricas em relação aos algarismos do numero\n"
   ]
  },
  {
   "cell_type": "code",
   "execution_count": 161,
   "id": "3275f20f",
   "metadata": {},
   "outputs": [
    {
     "name": "stdout",
     "output_type": "stream",
     "text": [
      "=======NÚMEROS ESTROBOGRÁFICOS=======\n",
      "=====================================\n",
      "Após você digitar o limite de um intervalo\n",
      "será mostrada uma sequência de números estrobográficos que\n",
      "são palíndromos, números formados por 7 segmentos como em \n",
      "um relógio digital ou rádio. Quando sofre rotação de 180° \n",
      "continuam com mesmo valor\n",
      "=====================================\n",
      "===================================== \n",
      "\n",
      "Digite o número inteiro para o intervalo: 1500\n",
      "0, 1, 2, 5, 8, 11, 22, 33, 44, 55, 66, 69, 77, 88, 96, 99, 101, 111, 121, 151, 181, 202, 212, 222, 252, 282, 505, 515, 525, 555, 585, 609, 619, 629, 659, 689, 808, 818, 828, 858, 888, 906, 916, 926, 956, 986, 1001, 1111, 1221, "
     ]
    }
   ],
   "source": [
    "print('=======NÚMEROS ESTROBOGRÁFICOS=======')\n",
    "print('=====================================')\n",
    "print('Após você digitar o limite de um intervalo')\n",
    "print('será mostrada uma sequência de números estrobográficos que')\n",
    "print('são palíndromos, números formados por 7 segmentos como em ')\n",
    "print('um relógio digital ou rádio. Quando sofre rotação de 180° ')\n",
    "print('continuam com mesmo valor')\n",
    "print('=====================================')\n",
    "print('===================================== \\n')\n",
    "n = input('Digite o número inteiro para o intervalo: ')\n",
    "n = int(n)\n",
    "intervalo = []\n",
    "\n",
    "for i in range(0,n+1,1):\n",
    "    intervalo.append(i)\n",
    "strlista = []\n",
    "\n",
    "for item in intervalo:\n",
    "    y = str(item)\n",
    "    strlista.append(y)\n",
    "    \n",
    "for numero in strlista: #onde numero é um elemento do intervalo\n",
    "    if int(len(numero)) % 2 == 0:\n",
    "        paridade = 'par'\n",
    "    else:\n",
    "        paridade = 'impar'\n",
    "\n",
    "    if paridade == 'impar': #aqui se a paridade for impar, o algarimo do meio tem que ser um numero entre (0,1,2,5 ou 8)\n",
    "        algarismo_meio = (int(len(numero)) // 2) #elemento do meio da sequência de algarismos\n",
    "        if (numero[algarismo_meio] in ['0','1','2','5','8']) & (numero[0] == '6') & (numero[-1] == '9'):\n",
    "            print(numero, end =', ')\n",
    "        elif (numero[algarismo_meio] in ['0','1','2','5','8']) & (numero[0] == '9') & (numero[-1] == '6'):\n",
    "            print(numero, end =', ')\n",
    "        elif (numero[algarismo_meio] in ['0','1','2','5','8']) & (numero[0] == numero[-1]):\n",
    "            if (numero[0] in ['0','1','2','5','8']) &  (numero[-1] in ['0','1','2','5','8']):\n",
    "                print(numero, end =', ')                              \n",
    "    else:\n",
    "        if (numero == '69') or (numero == '96'):\n",
    "            print(numero, end = ', ')        \n",
    "        elif (numero[0] == numero[-1]) & (len(numero) == 2):\n",
    "            print(numero, end =', ')\n",
    "        elif (numero[0] == numero[-1]) & (len(numero) == 4) & (numero[1] == numero[-2]) & (numero[1] != '3') & (numero[1] != '4') & (numero[1] != '7'):                    \n",
    "            print(numero, end =', ')\n",
    "                \n",
    "            \n",
    "#ajustar a condição para mais algarismos, até o 1500, ok!\n",
    "#para numeros de mais digitos, usar um interador positivo \n",
    "#pra primeira metade de algarismos, e um iterador que será negativo, para os ultimos algarismos\n",
    "#algo como range(0,int(len(numero)//2,1)) e range(-1,-int(len(numero)//2 -1),-1)\n",
    "#gerar a lista que será o resultado, ao invés de printar todos os números, serão adicionados a lista."
   ]
  },
  {
   "cell_type": "code",
   "execution_count": null,
   "id": "8e46e1aa",
   "metadata": {},
   "outputs": [],
   "source": []
  }
 ],
 "metadata": {
  "kernelspec": {
   "display_name": "Python 3 (ipykernel)",
   "language": "python",
   "name": "python3"
  },
  "language_info": {
   "codemirror_mode": {
    "name": "ipython",
    "version": 3
   },
   "file_extension": ".py",
   "mimetype": "text/x-python",
   "name": "python",
   "nbconvert_exporter": "python",
   "pygments_lexer": "ipython3",
   "version": "3.9.7"
  }
 },
 "nbformat": 4,
 "nbformat_minor": 5
}
