{
 "cells": [
  {
   "cell_type": "markdown",
   "id": "f4b20ee0",
   "metadata": {},
   "source": [
    "## PROBLEMA 1"
   ]
  },
  {
   "cell_type": "markdown",
   "id": "efb653d9",
   "metadata": {},
   "source": [
    "dadas duas sequências de n numeros inteiros entre 0 e 9, interpretadas como dois númeors inteiros de n algarismos, calcular a sequencia de números que representa a soma dos dois inteiros.\n",
    "\n",
    "3 funções: entrada(); soma(parcela1, parcela2); exibe_soma(parcela1, parcela2, soma)"
   ]
  },
  {
   "cell_type": "code",
   "execution_count": 7,
   "id": "3cbcb772",
   "metadata": {},
   "outputs": [],
   "source": [
    "import random\n"
   ]
  },
  {
   "cell_type": "code",
   "execution_count": 8,
   "id": "7da5d0c7",
   "metadata": {},
   "outputs": [
    {
     "name": "stdout",
     "output_type": "stream",
     "text": [
      "Quantos números terão a sequência? 4\n",
      "Digite \"D\" para digitar uma sequência de números, ou \"G\" para gerar um automáticamenteg\n",
      "1ª sequência: 1313\n",
      "2ª sequência: 2033\n"
     ]
    }
   ],
   "source": [
    "#determinar os valores a serem somados\n",
    "#a quantidade de elementos da sequência é n, os valores a serem digitados, é de 0 a 9\n",
    "\n",
    "#os números digitados deverão ser do tipo inteiro.\n",
    "#caso contrário emitir uma mensagem de erro, pedindo para digitar novamente\n",
    "#o usuário quer digitar a lista ou prefere que seja gerada uma lista randomica pra ele?\n",
    "#se o usuario digitar mais algarismos em cada termo da sequencia, daria errado, então limitaremos essa digitação\n",
    "#de forma a encerrar a sequencia assim que o número de algarismos escolhidos for atingido\n",
    "\n",
    "n =input('Quantos números terão a sequência? ')\n",
    "if n.isnumeric() == True:\n",
    "    n = int(n)\n",
    "    sequencia1 = []\n",
    "    sequencia2 = []\n",
    "    str1 = ''\n",
    "    str2 = ''\n",
    "    escolha = input('Digite \"D\" para digitar uma sequência de números, ou \"G\" para gerar um automáticamente')\n",
    "    if (escolha == 'D') or (escolha == 'd'):\n",
    "        while len(str1) != n:\n",
    "            print('Digite os valores da 1ª sequência:')\n",
    "            str1 = input() \n",
    "            sequencia1 = list(str1)\n",
    "            if len(str1) != n:\n",
    "                print('Vc não digitou {} algarismos.'.format(n))\n",
    "\n",
    "\n",
    "        while len(str2) != n:\n",
    "            print('Digite os valores da 2ª sequência:')\n",
    "            str2 = input() \n",
    "            sequencia2 = list(str2)\n",
    "            if len(str2) != n:\n",
    "                print('Vc não digitou {} algarismos.'.format(n))\n",
    "        \n",
    "    elif (escolha == 'G') or (escolha == 'g'):\n",
    "        for i in range(n):\n",
    "            sequencia1.append(random.randrange(0,n))\n",
    "            sequencia2.append(random.randrange(0,n))\n",
    "        str1 = ''\n",
    "        str2 = ''\n",
    "        for item in sequencia1:\n",
    "            str1 = str1 + str(item)\n",
    "        for item in sequencia2:\n",
    "            str2 = str2 + str(item)\n",
    "\n",
    "        print('1ª sequência: {}\\n2ª sequência: {}'.format(str1,str2))\n",
    "\n",
    "    else:\n",
    "        print('Você precisa escolher alguma das opções. Tente novamente por favor.')\n",
    "else:\n",
    "    print('Você não digitou um número inteiro positivo. Tente novamente por favor')"
   ]
  },
  {
   "cell_type": "code",
   "execution_count": 46,
   "id": "a10bb20e",
   "metadata": {},
   "outputs": [
    {
     "name": "stdout",
     "output_type": "stream",
     "text": [
      "33003\n",
      "21444\n"
     ]
    }
   ],
   "source": [
    "#transformar a lista em números\n",
    "strsequencia1 = ''\n",
    "strsequencia2 = ''\n",
    "for item in sequencia1:\n",
    "    strsequencia1 = strsequencia1 + str(item)\n",
    "for item in sequencia2:\n",
    "    strsequencia2 = strsequencia2 + str(item)\n",
    "\n",
    "print(strsequencia1)\n",
    "print(strsequencia2)\n"
   ]
  },
  {
   "cell_type": "code",
   "execution_count": 47,
   "id": "39174cd7",
   "metadata": {},
   "outputs": [
    {
     "name": "stdout",
     "output_type": "stream",
     "text": [
      "54447\n"
     ]
    }
   ],
   "source": [
    "#somar esses números\n",
    "parcela1 = int(strsequencia1)\n",
    "parcela2 = int(strsequencia2)\n",
    "soma = parcela1 + parcela2\n",
    "print(soma)"
   ]
  },
  {
   "cell_type": "code",
   "execution_count": 48,
   "id": "d6fa34a4",
   "metadata": {},
   "outputs": [
    {
     "name": "stdout",
     "output_type": "stream",
     "text": [
      "  33003\n",
      " +21444\n",
      " ------\n",
      "  54447\n"
     ]
    }
   ],
   "source": [
    "#apresentação da soma\n",
    "traco = ''\n",
    "for x in range(n + 1):\n",
    "    traco =  '-'+ traco\n",
    "print('  {}\\n +{}\\n {}\\n  {}'.format(parcela1, parcela2, traco, soma))"
   ]
  },
  {
   "cell_type": "code",
   "execution_count": 65,
   "id": "6c96cf4d",
   "metadata": {},
   "outputs": [
    {
     "data": {
      "text/plain": [
       "['5', '4', '4', '4', '7']"
      ]
     },
     "execution_count": 65,
     "metadata": {},
     "output_type": "execute_result"
    }
   ],
   "source": [
    "list(str(soma))\n",
    "\n"
   ]
  },
  {
   "cell_type": "code",
   "execution_count": 5,
   "id": "53388709",
   "metadata": {},
   "outputs": [
    {
     "name": "stdout",
     "output_type": "stream",
     "text": [
      "Quantos números terão a sequência? 4\n",
      "Digite \"D\" para digitar uma sequência de números, ou \"G\" para gerar um automáticamented\n",
      "Digite os valores da 1ª sequência:\n",
      "1234\n",
      "Digite os valores da 2ª sequência:\n",
      "4567\n",
      "1ª sequência: 1234\n",
      "2ª sequência: 4567\n"
     ]
    }
   ],
   "source": [
    "n =input('Quantos números terão a sequência? ')\n",
    "n = int(n)\n",
    "sequencia1 = []\n",
    "sequencia2 = []\n",
    "str1 = ''\n",
    "str2 = ''\n",
    "escolha = input('Digite \"D\" para digitar uma sequência de números, ou \"G\" para gerar um automáticamente')\n",
    "if (escolha == 'D') or (escolha == 'd'):\n",
    "    while len(str1) != n:\n",
    "        print('Digite os valores da 1ª sequência:')\n",
    "        str1 = input() \n",
    "        sequencia1 = list(str1)\n",
    "        if len(str1) != n:\n",
    "            print('Vc não digitou {} algarismos.'.format(n))\n",
    "          \n",
    "\n",
    "    while len(str2) != n:\n",
    "        print('Digite os valores da 2ª sequência:')\n",
    "        str2 = input() \n",
    "        sequencia2 = list(str2)\n",
    "        if len(str2) != n:\n",
    "            print('Vc não digitou {} algarismos.'.format(n))\n",
    "\n",
    "\n",
    "   \n",
    "\n",
    "    print('1ª sequência: {}\\n2ª sequência: {}'.format(str1,str2))"
   ]
  },
  {
   "cell_type": "code",
   "execution_count": null,
   "id": "8129d5c8",
   "metadata": {},
   "outputs": [],
   "source": []
  },
  {
   "cell_type": "code",
   "execution_count": null,
   "id": "09b7e5cc",
   "metadata": {},
   "outputs": [],
   "source": []
  }
 ],
 "metadata": {
  "kernelspec": {
   "display_name": "Python 3 (ipykernel)",
   "language": "python",
   "name": "python3"
  },
  "language_info": {
   "codemirror_mode": {
    "name": "ipython",
    "version": 3
   },
   "file_extension": ".py",
   "mimetype": "text/x-python",
   "name": "python",
   "nbconvert_exporter": "python",
   "pygments_lexer": "ipython3",
   "version": "3.9.7"
  }
 },
 "nbformat": 4,
 "nbformat_minor": 5
}
