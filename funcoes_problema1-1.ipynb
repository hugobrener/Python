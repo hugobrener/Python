{
 "cells": [
  {
   "cell_type": "markdown",
   "id": "a782fa39",
   "metadata": {},
   "source": [
    "# Algoritmo"
   ]
  },
  {
   "cell_type": "markdown",
   "id": "d641b66b",
   "metadata": {},
   "source": [
    "Primeiramente é necessário determinar a quantidade de algarismos da entrada e verificar se essa entrada é de números inteiros positivos, caso contrário emitir uma mensagem de erro, pedindo para digitar novamente.\n",
    "\n",
    "Perguntar se o usuário quer digitar a lista ou prefere que seja gerada uma lista randomica pra ele com a quantidade de termos já definida anteriormente.\n",
    "\n",
    "Ao digitar uma lista, caso o usuário digite mais algarismos que o definido no ínicio, uma mensagem deverá avisá-lo para que digite novamente com a quantidade de algarismos correta.\n",
    "\n",
    "Na segunda função há a necessidade de converter as listas em um números inteiros, para somá-los. E novamente, converter o resultado da soma em uma lista de números inteiros.\n",
    "\n",
    "Na terceira função converter em string permite o layout da operação armada"
   ]
  },
  {
   "cell_type": "code",
   "execution_count": 17,
   "id": "d6fb7cbe",
   "metadata": {},
   "outputs": [],
   "source": [
    "def entrada():\n",
    "    import random\n",
    "    n =input('Quantos números terão a sequência? ')\n",
    "    if n.isnumeric() == True:\n",
    "        n = int(n)\n",
    "        sequencia1 = []\n",
    "        sequencia2 = []\n",
    "        str1 = ''\n",
    "        str2 = ''\n",
    "        escolha = input('Digite \"D\" para digitar uma sequência de números, ou \"G\" para gerar um automáticamente')\n",
    "        if (escolha == 'D') or (escolha == 'd'):\n",
    "            while len(str1) != n:\n",
    "                print('Digite os valores da 1ª sequência:')\n",
    "                str1 = input() \n",
    "                sequencia1 = list(map(int, list(str1)))\n",
    "                if len(str1) != n:\n",
    "                    print('Vc não digitou {} algarismos.'.format(n))\n",
    "            while len(str2) != n:\n",
    "                print('Digite os valores da 2ª sequência:')\n",
    "                str2 = input()  \n",
    "                sequencia2 = list(map(int, list(str2)))\n",
    "                if len(str2) != n:\n",
    "                    print('Vc não digitou {} algarismos.'.format(n))                      \n",
    "        elif (escolha == 'G') or (escolha == 'g'):\n",
    "            for i in range(n):\n",
    "                sequencia1.append(random.randrange(0,n))\n",
    "                sequencia2.append(random.randrange(0,n))\n",
    "            str1 = ''\n",
    "            str2 = ''\n",
    "            for item in sequencia1:\n",
    "                str1 = str1 + str(item)\n",
    "            for item in sequencia2:\n",
    "                str2 = str2 + str(item)\n",
    "                \n",
    "            \n",
    "        else:\n",
    "            print('Você precisa escolher alguma das opções. Tente novamente por favor.')\n",
    "    else:\n",
    "        print('Você não digitou um número inteiro positivo. Tente novamente por favor')\n",
    "    return(int(str1) ,int(str2))\n",
    "\n",
    "def soma(parcela1, parcela2):\n",
    "    str1 = ''\n",
    "    str2 = ''\n",
    "    for item in parcela1:\n",
    "        str1 = str1 + str(item)\n",
    "    for item in parcela2:\n",
    "        str2 = str2 + str(item)\n",
    "    somaint = int(str1) + int(str2)\n",
    "    seqsoma = list(str(somaint))\n",
    "    soma = list(map(int, seqsoma))\n",
    "    return(soma)\n",
    "\n",
    "def exibe_soma(parcela1, parcela2, soma):\n",
    "    str1 = ''\n",
    "    str2 = ''\n",
    "    strsoma = '' \n",
    "    for item in parcela1:\n",
    "        str1 = str1 + str(item) + ' '\n",
    "    for item in parcela2:\n",
    "        str2 = str2 + str(item) + ' '\n",
    "    for item in soma:\n",
    "        strsoma = strsoma + str(item) + ' '\n",
    "    traco = ''\n",
    "    for i in range(int(len(strsoma))+1):\n",
    "        traco =  '-'+ traco\n",
    "    print('  {}\\n +{}\\n {}\\n  {}'.format(str1, str2, traco, strsoma))"
   ]
  },
  {
   "cell_type": "code",
   "execution_count": 18,
   "id": "27c5ccce",
   "metadata": {},
   "outputs": [
    {
     "name": "stdout",
     "output_type": "stream",
     "text": [
      "Quantos números terão a sequência? 5\n",
      "Digite \"D\" para digitar uma sequência de números, ou \"G\" para gerar um automáticamented\n",
      "Digite os valores da 1ª sequência:\n",
      "65478\n",
      "Digite os valores da 2ª sequência:\n",
      "65489\n"
     ]
    },
    {
     "data": {
      "text/plain": [
       "(65478, 65489)"
      ]
     },
     "execution_count": 18,
     "metadata": {},
     "output_type": "execute_result"
    }
   ],
   "source": [
    " entrada()"
   ]
  },
  {
   "cell_type": "code",
   "execution_count": 12,
   "id": "80b70c94",
   "metadata": {},
   "outputs": [
    {
     "data": {
      "text/plain": [
       "[5, 0, 0, 1]"
      ]
     },
     "execution_count": 12,
     "metadata": {},
     "output_type": "execute_result"
    }
   ],
   "source": [
    "soma([1,0,0,0],[4,0,0,1])"
   ]
  },
  {
   "cell_type": "code",
   "execution_count": 14,
   "id": "73c1e888",
   "metadata": {},
   "outputs": [
    {
     "name": "stdout",
     "output_type": "stream",
     "text": [
      "  1 0 0 0 \n",
      " +4 0 0 1 \n",
      " ---------\n",
      "  5 0 0 1 \n"
     ]
    }
   ],
   "source": [
    "exibe_soma([1,0,0,0],[4,0,0,1],[5, 0, 0, 1])"
   ]
  },
  {
   "cell_type": "code",
   "execution_count": null,
   "id": "dd3a9f46",
   "metadata": {},
   "outputs": [],
   "source": []
  }
 ],
 "metadata": {
  "kernelspec": {
   "display_name": "Python 3 (ipykernel)",
   "language": "python",
   "name": "python3"
  },
  "language_info": {
   "codemirror_mode": {
    "name": "ipython",
    "version": 3
   },
   "file_extension": ".py",
   "mimetype": "text/x-python",
   "name": "python",
   "nbconvert_exporter": "python",
   "pygments_lexer": "ipython3",
   "version": "3.9.7"
  }
 },
 "nbformat": 4,
 "nbformat_minor": 5
}
