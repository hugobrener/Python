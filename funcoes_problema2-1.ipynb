{
 "cells": [
  {
   "cell_type": "markdown",
   "id": "6386ccb5",
   "metadata": {},
   "source": [
    "# Problema 2"
   ]
  },
  {
   "cell_type": "code",
   "execution_count": 1,
   "id": "87d719c5",
   "metadata": {},
   "outputs": [],
   "source": [
    "## Sequência de Farey - números racionais entre 0 e 1 com denominadores inteiros positivos"
   ]
  },
  {
   "cell_type": "code",
   "execution_count": 2,
   "id": "02f151df",
   "metadata": {},
   "outputs": [],
   "source": [
    "# selecionar o intervalo de denominadores, o \"n\" a ser escolhido.\n",
    "# organizar as frações de maneira crescente comando sort\n",
    "# apresentar a sequencia"
   ]
  },
  {
   "cell_type": "code",
   "execution_count": 297,
   "id": "87077891",
   "metadata": {},
   "outputs": [],
   "source": [
    "def farey(n): #n é o número inteiro limite para o denominador das frações\n",
    "    quociente_fracao = [] #lista dos quocientes das frações\n",
    "    num_den_fracao = [] #lista dos pares ordenados numeradores e denominadores das frações\n",
    "\n",
    "    for i in range(n, -1, -1):  #range com passo negativo para garantir denominadores com o menor valor para cada quociente e também numeradores\n",
    "        for x in range(n, 0, -1):\n",
    "            t = i/(x)\n",
    "            if 0 <= t <= 1:\n",
    "                quociente_fracao.append(t)\n",
    "                num_den_fracao.append([i,x])\n",
    "\n",
    "    dic = dict(zip(quociente_fracao, num_den_fracao)) #dicionário dos quocientes(chaves) e pares ordenados de numeradores e denominadore(lista)\n",
    "    sorted(dic)\n",
    "    num_den_ordenados = []  #lista de numeradores e denominadores, respectivamente, ordenados conforme a ordem crescente dos quocientes\n",
    "    for item in sorted(dic):\n",
    "        num_den_ordenados.append(dic[item])\n",
    "    numden = tuple(num_den_ordenados) #numden := tuplas de listas de numeradores e denominadores, respectivamente.\n",
    "    return numden        \n",
    "\n",
    "\n",
    "# o problema está sendo em como ordenar os pares (OK)\n",
    "# agora o problema é ordenar os numeradores de modo que as frações continuem ordenadas e o numerador seja o menor possivel(ok)\n",
    "# agora apresentar a sequencia em forma de frações pra isso, vou precisar de strings (ok)\n",
    "#https://docs.python.org/pt-br/3.8/library/stdtypes.html?highlight=dicion%C3%A1rio"
   ]
  },
  {
   "cell_type": "code",
   "execution_count": 306,
   "id": "e9cf0f04",
   "metadata": {},
   "outputs": [
    {
     "data": {
      "text/plain": [
       "([0, 1],\n",
       " [1, 5],\n",
       " [1, 4],\n",
       " [1, 3],\n",
       " [2, 5],\n",
       " [1, 2],\n",
       " [3, 5],\n",
       " [2, 3],\n",
       " [3, 4],\n",
       " [4, 5],\n",
       " [1, 1])"
      ]
     },
     "execution_count": 306,
     "metadata": {},
     "output_type": "execute_result"
    }
   ],
   "source": [
    "farey(5)"
   ]
  },
  {
   "cell_type": "code",
   "execution_count": 307,
   "id": "569aa469",
   "metadata": {},
   "outputs": [],
   "source": [
    "def exibe_farey(numden):\n",
    "    numeradores = []\n",
    "    for i in range(len(numden)):\n",
    "        numeradores.append(numden[i][0])\n",
    "    denominadores = []\n",
    "    for i in range(len(numden)):\n",
    "        denominadores.append(numden[i][1])\n",
    "    str1 = ''\n",
    "    str2 = ''\n",
    "    for item in numeradores:\n",
    "        str1 = str1 + str(item) + ' '\n",
    "\n",
    "    for item in denominadores:\n",
    "        str2 = str2 + str(item) + ' '\n",
    "    traco = ''\n",
    "    for i in range(len(numeradores)):\n",
    "        traco = traco + '-'  + ' '\n",
    "    print('{}\\n{} \\n{}'.format(str1,traco, str2))"
   ]
  },
  {
   "cell_type": "code",
   "execution_count": 308,
   "id": "c44811cd",
   "metadata": {},
   "outputs": [
    {
     "name": "stdout",
     "output_type": "stream",
     "text": [
      "0 1 1 1 2 1 3 2 3 4 1 \n",
      "- - - - - - - - - - -  \n",
      "1 5 4 3 5 2 5 3 4 5 1 \n"
     ]
    }
   ],
   "source": [
    "exibe_farey(([0, 1],\n",
    " [1, 5],\n",
    " [1, 4],\n",
    " [1, 3],\n",
    " [2, 5],\n",
    " [1, 2],\n",
    " [3, 5],\n",
    " [2, 3],\n",
    " [3, 4],\n",
    " [4, 5],\n",
    " [1, 1]))"
   ]
  },
  {
   "cell_type": "code",
   "execution_count": null,
   "id": "a5dbc8a6",
   "metadata": {},
   "outputs": [],
   "source": []
  }
 ],
 "metadata": {
  "kernelspec": {
   "display_name": "Python 3 (ipykernel)",
   "language": "python",
   "name": "python3"
  },
  "language_info": {
   "codemirror_mode": {
    "name": "ipython",
    "version": 3
   },
   "file_extension": ".py",
   "mimetype": "text/x-python",
   "name": "python",
   "nbconvert_exporter": "python",
   "pygments_lexer": "ipython3",
   "version": "3.9.7"
  }
 },
 "nbformat": 4,
 "nbformat_minor": 5
}
